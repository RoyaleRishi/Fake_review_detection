{
 "cells": [
  {
   "cell_type": "markdown",
   "id": "30f5fe85",
   "metadata": {},
   "source": [
    "Importing Libraries"
   ]
  },
  {
   "cell_type": "code",
   "execution_count": 139,
   "id": "56520a6d",
   "metadata": {},
   "outputs": [],
   "source": [
    "import pandas as pd\n",
    "import numpy as np\n",
    "import seaborn as sns\n",
    "import matplotlib.pyplot as plt\n",
    "from sklearn.model_selection import train_test_split\n",
    "from sklearn.metrics import accuracy_score\n",
    "from sklearn.metrics import classification_report\n",
    "import re\n",
    "import string\n",
    "import warnings \n",
    "warnings.filterwarnings('ignore')"
   ]
  },
  {
   "cell_type": "markdown",
   "id": "82f7a678",
   "metadata": {},
   "source": [
    "Inserting Dataset"
   ]
  },
  {
   "cell_type": "code",
   "execution_count": 140,
   "id": "f8563e52",
   "metadata": {},
   "outputs": [],
   "source": [
    "data = pd.read_csv(\"deceptive-opinion.csv\")\n",
    "data = data.rename(columns={\"deceptive\":\"label\"})"
   ]
  },
  {
   "cell_type": "code",
   "execution_count": 141,
   "id": "9d448127",
   "metadata": {},
   "outputs": [
    {
     "data": {
      "text/html": [
       "<div>\n",
       "<style scoped>\n",
       "    .dataframe tbody tr th:only-of-type {\n",
       "        vertical-align: middle;\n",
       "    }\n",
       "\n",
       "    .dataframe tbody tr th {\n",
       "        vertical-align: top;\n",
       "    }\n",
       "\n",
       "    .dataframe thead th {\n",
       "        text-align: right;\n",
       "    }\n",
       "</style>\n",
       "<table border=\"1\" class=\"dataframe\">\n",
       "  <thead>\n",
       "    <tr style=\"text-align: right;\">\n",
       "      <th></th>\n",
       "      <th>label</th>\n",
       "      <th>hotel</th>\n",
       "      <th>polarity</th>\n",
       "      <th>source</th>\n",
       "      <th>text</th>\n",
       "    </tr>\n",
       "  </thead>\n",
       "  <tbody>\n",
       "    <tr>\n",
       "      <th>0</th>\n",
       "      <td>truthful</td>\n",
       "      <td>conrad</td>\n",
       "      <td>positive</td>\n",
       "      <td>TripAdvisor</td>\n",
       "      <td>We stayed for a one night getaway with family ...</td>\n",
       "    </tr>\n",
       "    <tr>\n",
       "      <th>1</th>\n",
       "      <td>truthful</td>\n",
       "      <td>hyatt</td>\n",
       "      <td>positive</td>\n",
       "      <td>TripAdvisor</td>\n",
       "      <td>Triple A rate with upgrade to view room was le...</td>\n",
       "    </tr>\n",
       "    <tr>\n",
       "      <th>2</th>\n",
       "      <td>truthful</td>\n",
       "      <td>hyatt</td>\n",
       "      <td>positive</td>\n",
       "      <td>TripAdvisor</td>\n",
       "      <td>This comes a little late as I'm finally catchi...</td>\n",
       "    </tr>\n",
       "    <tr>\n",
       "      <th>3</th>\n",
       "      <td>truthful</td>\n",
       "      <td>omni</td>\n",
       "      <td>positive</td>\n",
       "      <td>TripAdvisor</td>\n",
       "      <td>The Omni Chicago really delivers on all fronts...</td>\n",
       "    </tr>\n",
       "    <tr>\n",
       "      <th>4</th>\n",
       "      <td>truthful</td>\n",
       "      <td>hyatt</td>\n",
       "      <td>positive</td>\n",
       "      <td>TripAdvisor</td>\n",
       "      <td>I asked for a high floor away from the elevato...</td>\n",
       "    </tr>\n",
       "  </tbody>\n",
       "</table>\n",
       "</div>"
      ],
      "text/plain": [
       "      label   hotel  polarity       source  \\\n",
       "0  truthful  conrad  positive  TripAdvisor   \n",
       "1  truthful   hyatt  positive  TripAdvisor   \n",
       "2  truthful   hyatt  positive  TripAdvisor   \n",
       "3  truthful    omni  positive  TripAdvisor   \n",
       "4  truthful   hyatt  positive  TripAdvisor   \n",
       "\n",
       "                                                text  \n",
       "0  We stayed for a one night getaway with family ...  \n",
       "1  Triple A rate with upgrade to view room was le...  \n",
       "2  This comes a little late as I'm finally catchi...  \n",
       "3  The Omni Chicago really delivers on all fronts...  \n",
       "4  I asked for a high floor away from the elevato...  "
      ]
     },
     "execution_count": 141,
     "metadata": {},
     "output_type": "execute_result"
    }
   ],
   "source": [
    "data.head(5)"
   ]
  },
  {
   "cell_type": "markdown",
   "id": "866cb13b",
   "metadata": {},
   "source": [
    "Shuffling Dataset"
   ]
  },
  {
   "cell_type": "code",
   "execution_count": 142,
   "id": "19c33489",
   "metadata": {},
   "outputs": [],
   "source": [
    "data = data.sample(frac = 1)"
   ]
  },
  {
   "cell_type": "code",
   "execution_count": 143,
   "id": "307b323d",
   "metadata": {},
   "outputs": [
    {
     "data": {
      "text/html": [
       "<div>\n",
       "<style scoped>\n",
       "    .dataframe tbody tr th:only-of-type {\n",
       "        vertical-align: middle;\n",
       "    }\n",
       "\n",
       "    .dataframe tbody tr th {\n",
       "        vertical-align: top;\n",
       "    }\n",
       "\n",
       "    .dataframe thead th {\n",
       "        text-align: right;\n",
       "    }\n",
       "</style>\n",
       "<table border=\"1\" class=\"dataframe\">\n",
       "  <thead>\n",
       "    <tr style=\"text-align: right;\">\n",
       "      <th></th>\n",
       "      <th>label</th>\n",
       "      <th>hotel</th>\n",
       "      <th>polarity</th>\n",
       "      <th>source</th>\n",
       "      <th>text</th>\n",
       "    </tr>\n",
       "  </thead>\n",
       "  <tbody>\n",
       "    <tr>\n",
       "      <th>457</th>\n",
       "      <td>deceptive</td>\n",
       "      <td>hyatt</td>\n",
       "      <td>positive</td>\n",
       "      <td>MTurk</td>\n",
       "      <td>I recently stayed at the Hyatt Regency in Chic...</td>\n",
       "    </tr>\n",
       "    <tr>\n",
       "      <th>1538</th>\n",
       "      <td>deceptive</td>\n",
       "      <td>intercontinental</td>\n",
       "      <td>negative</td>\n",
       "      <td>MTurk</td>\n",
       "      <td>The Intercontinental Chicago was not as great ...</td>\n",
       "    </tr>\n",
       "    <tr>\n",
       "      <th>878</th>\n",
       "      <td>truthful</td>\n",
       "      <td>hyatt</td>\n",
       "      <td>negative</td>\n",
       "      <td>Web</td>\n",
       "      <td>We had an issue with housekeeping and the hote...</td>\n",
       "    </tr>\n",
       "    <tr>\n",
       "      <th>59</th>\n",
       "      <td>truthful</td>\n",
       "      <td>omni</td>\n",
       "      <td>positive</td>\n",
       "      <td>TripAdvisor</td>\n",
       "      <td>This a great property, excellent location and ...</td>\n",
       "    </tr>\n",
       "    <tr>\n",
       "      <th>1398</th>\n",
       "      <td>deceptive</td>\n",
       "      <td>affinia</td>\n",
       "      <td>negative</td>\n",
       "      <td>MTurk</td>\n",
       "      <td>I recently stayed at the Affina Chicago hotel ...</td>\n",
       "    </tr>\n",
       "    <tr>\n",
       "      <th>1430</th>\n",
       "      <td>deceptive</td>\n",
       "      <td>affinia</td>\n",
       "      <td>negative</td>\n",
       "      <td>MTurk</td>\n",
       "      <td>I truly am not the sort of person to write a n...</td>\n",
       "    </tr>\n",
       "    <tr>\n",
       "      <th>1339</th>\n",
       "      <td>deceptive</td>\n",
       "      <td>sheraton</td>\n",
       "      <td>negative</td>\n",
       "      <td>MTurk</td>\n",
       "      <td>I stayed at the Sheraton Chicago Hotel and Tow...</td>\n",
       "    </tr>\n",
       "    <tr>\n",
       "      <th>1078</th>\n",
       "      <td>truthful</td>\n",
       "      <td>james</td>\n",
       "      <td>negative</td>\n",
       "      <td>Web</td>\n",
       "      <td>Me, My sister and my best friend all went to s...</td>\n",
       "    </tr>\n",
       "    <tr>\n",
       "      <th>134</th>\n",
       "      <td>truthful</td>\n",
       "      <td>knickerbocker</td>\n",
       "      <td>positive</td>\n",
       "      <td>TripAdvisor</td>\n",
       "      <td>Stayed there three nights from 4/17/09 through...</td>\n",
       "    </tr>\n",
       "    <tr>\n",
       "      <th>1238</th>\n",
       "      <td>deceptive</td>\n",
       "      <td>omni</td>\n",
       "      <td>negative</td>\n",
       "      <td>MTurk</td>\n",
       "      <td>I had never been to Chicago and was looking fo...</td>\n",
       "    </tr>\n",
       "  </tbody>\n",
       "</table>\n",
       "</div>"
      ],
      "text/plain": [
       "          label             hotel  polarity       source  \\\n",
       "457   deceptive             hyatt  positive        MTurk   \n",
       "1538  deceptive  intercontinental  negative        MTurk   \n",
       "878    truthful             hyatt  negative          Web   \n",
       "59     truthful              omni  positive  TripAdvisor   \n",
       "1398  deceptive           affinia  negative        MTurk   \n",
       "1430  deceptive           affinia  negative        MTurk   \n",
       "1339  deceptive          sheraton  negative        MTurk   \n",
       "1078   truthful             james  negative          Web   \n",
       "134    truthful     knickerbocker  positive  TripAdvisor   \n",
       "1238  deceptive              omni  negative        MTurk   \n",
       "\n",
       "                                                   text  \n",
       "457   I recently stayed at the Hyatt Regency in Chic...  \n",
       "1538  The Intercontinental Chicago was not as great ...  \n",
       "878   We had an issue with housekeeping and the hote...  \n",
       "59    This a great property, excellent location and ...  \n",
       "1398  I recently stayed at the Affina Chicago hotel ...  \n",
       "1430  I truly am not the sort of person to write a n...  \n",
       "1339  I stayed at the Sheraton Chicago Hotel and Tow...  \n",
       "1078  Me, My sister and my best friend all went to s...  \n",
       "134   Stayed there three nights from 4/17/09 through...  \n",
       "1238  I had never been to Chicago and was looking fo...  "
      ]
     },
     "execution_count": 143,
     "metadata": {},
     "output_type": "execute_result"
    }
   ],
   "source": [
    "data.head(10)"
   ]
  },
  {
   "cell_type": "markdown",
   "id": "d8a49375",
   "metadata": {},
   "source": [
    "\n",
    "\n",
    "Removing Last 10 rows for testing"
   ]
  },
  {
   "cell_type": "code",
   "execution_count": 144,
   "id": "eac1d4bc",
   "metadata": {},
   "outputs": [
    {
     "data": {
      "text/plain": [
       "(1600, 5)"
      ]
     },
     "execution_count": 144,
     "metadata": {},
     "output_type": "execute_result"
    }
   ],
   "source": [
    "data.shape"
   ]
  },
  {
   "cell_type": "code",
   "execution_count": 145,
   "id": "cb278059",
   "metadata": {},
   "outputs": [],
   "source": [
    "data_for_manualTesting = data.tail(10)\n",
    "for i in range(1599,1589,-1):\n",
    "    data.drop([i], axis = 0, inplace = True)"
   ]
  },
  {
   "cell_type": "code",
   "execution_count": 146,
   "id": "82acd37e",
   "metadata": {},
   "outputs": [
    {
     "data": {
      "text/html": [
       "<div>\n",
       "<style scoped>\n",
       "    .dataframe tbody tr th:only-of-type {\n",
       "        vertical-align: middle;\n",
       "    }\n",
       "\n",
       "    .dataframe tbody tr th {\n",
       "        vertical-align: top;\n",
       "    }\n",
       "\n",
       "    .dataframe thead th {\n",
       "        text-align: right;\n",
       "    }\n",
       "</style>\n",
       "<table border=\"1\" class=\"dataframe\">\n",
       "  <thead>\n",
       "    <tr style=\"text-align: right;\">\n",
       "      <th></th>\n",
       "      <th>label</th>\n",
       "      <th>hotel</th>\n",
       "      <th>polarity</th>\n",
       "      <th>source</th>\n",
       "      <th>text</th>\n",
       "    </tr>\n",
       "  </thead>\n",
       "  <tbody>\n",
       "    <tr>\n",
       "      <th>408</th>\n",
       "      <td>deceptive</td>\n",
       "      <td>conrad</td>\n",
       "      <td>positive</td>\n",
       "      <td>MTurk</td>\n",
       "      <td>If you are looking for a luxurious downtown Ch...</td>\n",
       "    </tr>\n",
       "    <tr>\n",
       "      <th>1014</th>\n",
       "      <td>truthful</td>\n",
       "      <td>affinia</td>\n",
       "      <td>negative</td>\n",
       "      <td>Web</td>\n",
       "      <td>I'd been searching for a cool, non-chain hotel...</td>\n",
       "    </tr>\n",
       "    <tr>\n",
       "      <th>422</th>\n",
       "      <td>deceptive</td>\n",
       "      <td>fairmont</td>\n",
       "      <td>positive</td>\n",
       "      <td>MTurk</td>\n",
       "      <td>The atmosphere at this hotel is truly remarkab...</td>\n",
       "    </tr>\n",
       "    <tr>\n",
       "      <th>864</th>\n",
       "      <td>truthful</td>\n",
       "      <td>conrad</td>\n",
       "      <td>negative</td>\n",
       "      <td>Web</td>\n",
       "      <td>Let me first start by saying I have always bee...</td>\n",
       "    </tr>\n",
       "    <tr>\n",
       "      <th>1413</th>\n",
       "      <td>deceptive</td>\n",
       "      <td>talbott</td>\n",
       "      <td>negative</td>\n",
       "      <td>MTurk</td>\n",
       "      <td>I selected The Talbott for my recent family va...</td>\n",
       "    </tr>\n",
       "    <tr>\n",
       "      <th>384</th>\n",
       "      <td>truthful</td>\n",
       "      <td>palmer</td>\n",
       "      <td>positive</td>\n",
       "      <td>TripAdvisor</td>\n",
       "      <td>We just got back from a great weekend in Chica...</td>\n",
       "    </tr>\n",
       "    <tr>\n",
       "      <th>14</th>\n",
       "      <td>truthful</td>\n",
       "      <td>hyatt</td>\n",
       "      <td>positive</td>\n",
       "      <td>TripAdvisor</td>\n",
       "      <td>I got a Sunday night stay for only $50 off of ...</td>\n",
       "    </tr>\n",
       "    <tr>\n",
       "      <th>88</th>\n",
       "      <td>truthful</td>\n",
       "      <td>homewood</td>\n",
       "      <td>positive</td>\n",
       "      <td>TripAdvisor</td>\n",
       "      <td>Hi,Stayed here for three nights recently,From ...</td>\n",
       "    </tr>\n",
       "    <tr>\n",
       "      <th>35</th>\n",
       "      <td>truthful</td>\n",
       "      <td>fairmont</td>\n",
       "      <td>positive</td>\n",
       "      <td>TripAdvisor</td>\n",
       "      <td>I stayed at the Fairmont during a professional...</td>\n",
       "    </tr>\n",
       "    <tr>\n",
       "      <th>635</th>\n",
       "      <td>deceptive</td>\n",
       "      <td>affinia</td>\n",
       "      <td>positive</td>\n",
       "      <td>MTurk</td>\n",
       "      <td>My husband and I arrived for a 3 night stay fo...</td>\n",
       "    </tr>\n",
       "  </tbody>\n",
       "</table>\n",
       "</div>"
      ],
      "text/plain": [
       "          label     hotel  polarity       source  \\\n",
       "408   deceptive    conrad  positive        MTurk   \n",
       "1014   truthful   affinia  negative          Web   \n",
       "422   deceptive  fairmont  positive        MTurk   \n",
       "864    truthful    conrad  negative          Web   \n",
       "1413  deceptive   talbott  negative        MTurk   \n",
       "384    truthful    palmer  positive  TripAdvisor   \n",
       "14     truthful     hyatt  positive  TripAdvisor   \n",
       "88     truthful  homewood  positive  TripAdvisor   \n",
       "35     truthful  fairmont  positive  TripAdvisor   \n",
       "635   deceptive   affinia  positive        MTurk   \n",
       "\n",
       "                                                   text  \n",
       "408   If you are looking for a luxurious downtown Ch...  \n",
       "1014  I'd been searching for a cool, non-chain hotel...  \n",
       "422   The atmosphere at this hotel is truly remarkab...  \n",
       "864   Let me first start by saying I have always bee...  \n",
       "1413  I selected The Talbott for my recent family va...  \n",
       "384   We just got back from a great weekend in Chica...  \n",
       "14    I got a Sunday night stay for only $50 off of ...  \n",
       "88    Hi,Stayed here for three nights recently,From ...  \n",
       "35    I stayed at the Fairmont during a professional...  \n",
       "635   My husband and I arrived for a 3 night stay fo...  "
      ]
     },
     "execution_count": 146,
     "metadata": {},
     "output_type": "execute_result"
    }
   ],
   "source": [
    "data_for_manualTesting.head(10)"
   ]
  },
  {
   "cell_type": "markdown",
   "id": "0b30e62a",
   "metadata": {},
   "source": [
    "Dropping attributes that are not needed"
   ]
  },
  {
   "cell_type": "code",
   "execution_count": 147,
   "id": "f53e96fd",
   "metadata": {},
   "outputs": [
    {
     "data": {
      "text/html": [
       "<div>\n",
       "<style scoped>\n",
       "    .dataframe tbody tr th:only-of-type {\n",
       "        vertical-align: middle;\n",
       "    }\n",
       "\n",
       "    .dataframe tbody tr th {\n",
       "        vertical-align: top;\n",
       "    }\n",
       "\n",
       "    .dataframe thead th {\n",
       "        text-align: right;\n",
       "    }\n",
       "</style>\n",
       "<table border=\"1\" class=\"dataframe\">\n",
       "  <thead>\n",
       "    <tr style=\"text-align: right;\">\n",
       "      <th></th>\n",
       "      <th>label</th>\n",
       "      <th>polarity</th>\n",
       "      <th>text</th>\n",
       "    </tr>\n",
       "  </thead>\n",
       "  <tbody>\n",
       "    <tr>\n",
       "      <th>457</th>\n",
       "      <td>deceptive</td>\n",
       "      <td>positive</td>\n",
       "      <td>I recently stayed at the Hyatt Regency in Chic...</td>\n",
       "    </tr>\n",
       "    <tr>\n",
       "      <th>1538</th>\n",
       "      <td>deceptive</td>\n",
       "      <td>negative</td>\n",
       "      <td>The Intercontinental Chicago was not as great ...</td>\n",
       "    </tr>\n",
       "    <tr>\n",
       "      <th>878</th>\n",
       "      <td>truthful</td>\n",
       "      <td>negative</td>\n",
       "      <td>We had an issue with housekeeping and the hote...</td>\n",
       "    </tr>\n",
       "    <tr>\n",
       "      <th>59</th>\n",
       "      <td>truthful</td>\n",
       "      <td>positive</td>\n",
       "      <td>This a great property, excellent location and ...</td>\n",
       "    </tr>\n",
       "    <tr>\n",
       "      <th>1398</th>\n",
       "      <td>deceptive</td>\n",
       "      <td>negative</td>\n",
       "      <td>I recently stayed at the Affina Chicago hotel ...</td>\n",
       "    </tr>\n",
       "    <tr>\n",
       "      <th>1430</th>\n",
       "      <td>deceptive</td>\n",
       "      <td>negative</td>\n",
       "      <td>I truly am not the sort of person to write a n...</td>\n",
       "    </tr>\n",
       "    <tr>\n",
       "      <th>1339</th>\n",
       "      <td>deceptive</td>\n",
       "      <td>negative</td>\n",
       "      <td>I stayed at the Sheraton Chicago Hotel and Tow...</td>\n",
       "    </tr>\n",
       "    <tr>\n",
       "      <th>1078</th>\n",
       "      <td>truthful</td>\n",
       "      <td>negative</td>\n",
       "      <td>Me, My sister and my best friend all went to s...</td>\n",
       "    </tr>\n",
       "    <tr>\n",
       "      <th>134</th>\n",
       "      <td>truthful</td>\n",
       "      <td>positive</td>\n",
       "      <td>Stayed there three nights from 4/17/09 through...</td>\n",
       "    </tr>\n",
       "    <tr>\n",
       "      <th>1238</th>\n",
       "      <td>deceptive</td>\n",
       "      <td>negative</td>\n",
       "      <td>I had never been to Chicago and was looking fo...</td>\n",
       "    </tr>\n",
       "  </tbody>\n",
       "</table>\n",
       "</div>"
      ],
      "text/plain": [
       "          label  polarity                                               text\n",
       "457   deceptive  positive  I recently stayed at the Hyatt Regency in Chic...\n",
       "1538  deceptive  negative  The Intercontinental Chicago was not as great ...\n",
       "878    truthful  negative  We had an issue with housekeeping and the hote...\n",
       "59     truthful  positive  This a great property, excellent location and ...\n",
       "1398  deceptive  negative  I recently stayed at the Affina Chicago hotel ...\n",
       "1430  deceptive  negative  I truly am not the sort of person to write a n...\n",
       "1339  deceptive  negative  I stayed at the Sheraton Chicago Hotel and Tow...\n",
       "1078   truthful  negative  Me, My sister and my best friend all went to s...\n",
       "134    truthful  positive  Stayed there three nights from 4/17/09 through...\n",
       "1238  deceptive  negative  I had never been to Chicago and was looking fo..."
      ]
     },
     "execution_count": 147,
     "metadata": {},
     "output_type": "execute_result"
    }
   ],
   "source": [
    "data = data.drop([\"hotel\", \"source\"], axis = 1)\n",
    "data.head(10)"
   ]
  },
  {
   "cell_type": "markdown",
   "id": "694e8b67",
   "metadata": {},
   "source": [
    "Resetting Index"
   ]
  },
  {
   "cell_type": "code",
   "execution_count": 148,
   "id": "57efa2f3",
   "metadata": {},
   "outputs": [
    {
     "data": {
      "text/html": [
       "<div>\n",
       "<style scoped>\n",
       "    .dataframe tbody tr th:only-of-type {\n",
       "        vertical-align: middle;\n",
       "    }\n",
       "\n",
       "    .dataframe tbody tr th {\n",
       "        vertical-align: top;\n",
       "    }\n",
       "\n",
       "    .dataframe thead th {\n",
       "        text-align: right;\n",
       "    }\n",
       "</style>\n",
       "<table border=\"1\" class=\"dataframe\">\n",
       "  <thead>\n",
       "    <tr style=\"text-align: right;\">\n",
       "      <th></th>\n",
       "      <th>label</th>\n",
       "      <th>polarity</th>\n",
       "      <th>text</th>\n",
       "    </tr>\n",
       "  </thead>\n",
       "  <tbody>\n",
       "    <tr>\n",
       "      <th>0</th>\n",
       "      <td>deceptive</td>\n",
       "      <td>positive</td>\n",
       "      <td>I recently stayed at the Hyatt Regency in Chic...</td>\n",
       "    </tr>\n",
       "    <tr>\n",
       "      <th>1</th>\n",
       "      <td>deceptive</td>\n",
       "      <td>negative</td>\n",
       "      <td>The Intercontinental Chicago was not as great ...</td>\n",
       "    </tr>\n",
       "    <tr>\n",
       "      <th>2</th>\n",
       "      <td>truthful</td>\n",
       "      <td>negative</td>\n",
       "      <td>We had an issue with housekeeping and the hote...</td>\n",
       "    </tr>\n",
       "    <tr>\n",
       "      <th>3</th>\n",
       "      <td>truthful</td>\n",
       "      <td>positive</td>\n",
       "      <td>This a great property, excellent location and ...</td>\n",
       "    </tr>\n",
       "    <tr>\n",
       "      <th>4</th>\n",
       "      <td>deceptive</td>\n",
       "      <td>negative</td>\n",
       "      <td>I recently stayed at the Affina Chicago hotel ...</td>\n",
       "    </tr>\n",
       "  </tbody>\n",
       "</table>\n",
       "</div>"
      ],
      "text/plain": [
       "       label  polarity                                               text\n",
       "0  deceptive  positive  I recently stayed at the Hyatt Regency in Chic...\n",
       "1  deceptive  negative  The Intercontinental Chicago was not as great ...\n",
       "2   truthful  negative  We had an issue with housekeeping and the hote...\n",
       "3   truthful  positive  This a great property, excellent location and ...\n",
       "4  deceptive  negative  I recently stayed at the Affina Chicago hotel ..."
      ]
     },
     "execution_count": 148,
     "metadata": {},
     "output_type": "execute_result"
    }
   ],
   "source": [
    "data.reset_index(inplace = True)\n",
    "data.drop([\"index\"], axis = 1, inplace = True)\n",
    "data.head(5)"
   ]
  },
  {
   "cell_type": "markdown",
   "id": "905d0cdc",
   "metadata": {},
   "source": [
    "Checking for NULL values"
   ]
  },
  {
   "cell_type": "code",
   "execution_count": 149,
   "id": "34820dd3",
   "metadata": {},
   "outputs": [
    {
     "data": {
      "text/plain": [
       "label       0\n",
       "polarity    0\n",
       "text        0\n",
       "dtype: int64"
      ]
     },
     "execution_count": 149,
     "metadata": {},
     "output_type": "execute_result"
    }
   ],
   "source": [
    "data.isnull().sum()"
   ]
  },
  {
   "cell_type": "markdown",
   "id": "73547d9e",
   "metadata": {},
   "source": [
    "\n",
    "Grouping the data based on polarity to identify skew in data "
   ]
  },
  {
   "cell_type": "code",
   "execution_count": 150,
   "id": "fd45a82e",
   "metadata": {},
   "outputs": [
    {
     "data": {
      "text/plain": [
       "polarity  label    \n",
       "negative  truthful     400\n",
       "          deceptive    390\n",
       "positive  deceptive    400\n",
       "          truthful     400\n",
       "Name: label, dtype: int64"
      ]
     },
     "execution_count": 150,
     "metadata": {},
     "output_type": "execute_result"
    }
   ],
   "source": [
    "groupedReviews = data.groupby(\"polarity\").label.value_counts()\n",
    "groupedReviews"
   ]
  },
  {
   "cell_type": "markdown",
   "id": "eaf57c76",
   "metadata": {},
   "source": [
    "Note - There is minimal skew, Therefore we can proceed without any adjustments"
   ]
  },
  {
   "cell_type": "markdown",
   "id": "64392dd6",
   "metadata": {},
   "source": [
    "#### Creating a function to convert the text in lowercase, remove the extra space, special chr., ulr and links."
   ]
  },
  {
   "cell_type": "code",
   "execution_count": 151,
   "id": "1bd638c8",
   "metadata": {},
   "outputs": [],
   "source": [
    "def textProcessing(text):\n",
    "    text = text.lower()\n",
    "    text = re.sub('\\[.*?\\]', '', text)\n",
    "    text = re.sub(\"\\\\W\",\" \",text) \n",
    "    text = re.sub('https?://\\S+|www\\.\\S+', '', text)\n",
    "    text = re.sub('<.*?>+', '', text)\n",
    "    text = re.sub('[%s]' % re.escape(string.punctuation), '', text)\n",
    "    text = re.sub('\\n', '', text)\n",
    "    text = re.sub('\\w*\\d\\w*', '', text)    \n",
    "    return text"
   ]
  },
  {
   "cell_type": "code",
   "execution_count": 152,
   "id": "9c2492d6",
   "metadata": {},
   "outputs": [],
   "source": [
    "data[\"text\"]  = data[\"text\"].apply(textProcessing)"
   ]
  },
  {
   "cell_type": "code",
   "execution_count": 153,
   "id": "172feb6c",
   "metadata": {},
   "outputs": [
    {
     "data": {
      "text/html": [
       "<div>\n",
       "<style scoped>\n",
       "    .dataframe tbody tr th:only-of-type {\n",
       "        vertical-align: middle;\n",
       "    }\n",
       "\n",
       "    .dataframe tbody tr th {\n",
       "        vertical-align: top;\n",
       "    }\n",
       "\n",
       "    .dataframe thead th {\n",
       "        text-align: right;\n",
       "    }\n",
       "</style>\n",
       "<table border=\"1\" class=\"dataframe\">\n",
       "  <thead>\n",
       "    <tr style=\"text-align: right;\">\n",
       "      <th></th>\n",
       "      <th>label</th>\n",
       "      <th>polarity</th>\n",
       "      <th>text</th>\n",
       "    </tr>\n",
       "  </thead>\n",
       "  <tbody>\n",
       "    <tr>\n",
       "      <th>0</th>\n",
       "      <td>deceptive</td>\n",
       "      <td>positive</td>\n",
       "      <td>i recently stayed at the hyatt regency in chic...</td>\n",
       "    </tr>\n",
       "    <tr>\n",
       "      <th>1</th>\n",
       "      <td>deceptive</td>\n",
       "      <td>negative</td>\n",
       "      <td>the intercontinental chicago was not as great ...</td>\n",
       "    </tr>\n",
       "    <tr>\n",
       "      <th>2</th>\n",
       "      <td>truthful</td>\n",
       "      <td>negative</td>\n",
       "      <td>we had an issue with housekeeping and the hote...</td>\n",
       "    </tr>\n",
       "    <tr>\n",
       "      <th>3</th>\n",
       "      <td>truthful</td>\n",
       "      <td>positive</td>\n",
       "      <td>this a great property  excellent location and ...</td>\n",
       "    </tr>\n",
       "    <tr>\n",
       "      <th>4</th>\n",
       "      <td>deceptive</td>\n",
       "      <td>negative</td>\n",
       "      <td>i recently stayed at the affina chicago hotel ...</td>\n",
       "    </tr>\n",
       "  </tbody>\n",
       "</table>\n",
       "</div>"
      ],
      "text/plain": [
       "       label  polarity                                               text\n",
       "0  deceptive  positive  i recently stayed at the hyatt regency in chic...\n",
       "1  deceptive  negative  the intercontinental chicago was not as great ...\n",
       "2   truthful  negative  we had an issue with housekeeping and the hote...\n",
       "3   truthful  positive  this a great property  excellent location and ...\n",
       "4  deceptive  negative  i recently stayed at the affina chicago hotel ..."
      ]
     },
     "execution_count": 153,
     "metadata": {},
     "output_type": "execute_result"
    }
   ],
   "source": [
    "data.head(5)"
   ]
  },
  {
   "cell_type": "markdown",
   "id": "c39facfe",
   "metadata": {},
   "source": [
    "#### Eliminating polarity as there is no skew"
   ]
  },
  {
   "cell_type": "code",
   "execution_count": 154,
   "id": "87decbb5",
   "metadata": {},
   "outputs": [],
   "source": [
    "data.drop([\"polarity\"], axis = 1, inplace = True)"
   ]
  },
  {
   "cell_type": "code",
   "execution_count": 155,
   "id": "247e858e",
   "metadata": {},
   "outputs": [
    {
     "data": {
      "text/html": [
       "<div>\n",
       "<style scoped>\n",
       "    .dataframe tbody tr th:only-of-type {\n",
       "        vertical-align: middle;\n",
       "    }\n",
       "\n",
       "    .dataframe tbody tr th {\n",
       "        vertical-align: top;\n",
       "    }\n",
       "\n",
       "    .dataframe thead th {\n",
       "        text-align: right;\n",
       "    }\n",
       "</style>\n",
       "<table border=\"1\" class=\"dataframe\">\n",
       "  <thead>\n",
       "    <tr style=\"text-align: right;\">\n",
       "      <th></th>\n",
       "      <th>label</th>\n",
       "      <th>text</th>\n",
       "    </tr>\n",
       "  </thead>\n",
       "  <tbody>\n",
       "    <tr>\n",
       "      <th>0</th>\n",
       "      <td>deceptive</td>\n",
       "      <td>i recently stayed at the hyatt regency in chic...</td>\n",
       "    </tr>\n",
       "    <tr>\n",
       "      <th>1</th>\n",
       "      <td>deceptive</td>\n",
       "      <td>the intercontinental chicago was not as great ...</td>\n",
       "    </tr>\n",
       "    <tr>\n",
       "      <th>2</th>\n",
       "      <td>truthful</td>\n",
       "      <td>we had an issue with housekeeping and the hote...</td>\n",
       "    </tr>\n",
       "    <tr>\n",
       "      <th>3</th>\n",
       "      <td>truthful</td>\n",
       "      <td>this a great property  excellent location and ...</td>\n",
       "    </tr>\n",
       "    <tr>\n",
       "      <th>4</th>\n",
       "      <td>deceptive</td>\n",
       "      <td>i recently stayed at the affina chicago hotel ...</td>\n",
       "    </tr>\n",
       "  </tbody>\n",
       "</table>\n",
       "</div>"
      ],
      "text/plain": [
       "       label                                               text\n",
       "0  deceptive  i recently stayed at the hyatt regency in chic...\n",
       "1  deceptive  the intercontinental chicago was not as great ...\n",
       "2   truthful  we had an issue with housekeeping and the hote...\n",
       "3   truthful  this a great property  excellent location and ...\n",
       "4  deceptive  i recently stayed at the affina chicago hotel ..."
      ]
     },
     "execution_count": 155,
     "metadata": {},
     "output_type": "execute_result"
    }
   ],
   "source": [
    "data.head(5)"
   ]
  },
  {
   "cell_type": "markdown",
   "id": "926703fb",
   "metadata": {},
   "source": [
    "#### Renaming label as 0 and 1"
   ]
  },
  {
   "cell_type": "code",
   "execution_count": 156,
   "id": "236d3b2e",
   "metadata": {},
   "outputs": [
    {
     "data": {
      "text/html": [
       "<div>\n",
       "<style scoped>\n",
       "    .dataframe tbody tr th:only-of-type {\n",
       "        vertical-align: middle;\n",
       "    }\n",
       "\n",
       "    .dataframe tbody tr th {\n",
       "        vertical-align: top;\n",
       "    }\n",
       "\n",
       "    .dataframe thead th {\n",
       "        text-align: right;\n",
       "    }\n",
       "</style>\n",
       "<table border=\"1\" class=\"dataframe\">\n",
       "  <thead>\n",
       "    <tr style=\"text-align: right;\">\n",
       "      <th></th>\n",
       "      <th>deceptive</th>\n",
       "      <th>truthful</th>\n",
       "    </tr>\n",
       "  </thead>\n",
       "  <tbody>\n",
       "    <tr>\n",
       "      <th>0</th>\n",
       "      <td>1</td>\n",
       "      <td>0</td>\n",
       "    </tr>\n",
       "    <tr>\n",
       "      <th>1</th>\n",
       "      <td>1</td>\n",
       "      <td>0</td>\n",
       "    </tr>\n",
       "    <tr>\n",
       "      <th>2</th>\n",
       "      <td>0</td>\n",
       "      <td>1</td>\n",
       "    </tr>\n",
       "    <tr>\n",
       "      <th>3</th>\n",
       "      <td>0</td>\n",
       "      <td>1</td>\n",
       "    </tr>\n",
       "    <tr>\n",
       "      <th>4</th>\n",
       "      <td>1</td>\n",
       "      <td>0</td>\n",
       "    </tr>\n",
       "  </tbody>\n",
       "</table>\n",
       "</div>"
      ],
      "text/plain": [
       "   deceptive  truthful\n",
       "0          1         0\n",
       "1          1         0\n",
       "2          0         1\n",
       "3          0         1\n",
       "4          1         0"
      ]
     },
     "execution_count": 156,
     "metadata": {},
     "output_type": "execute_result"
    }
   ],
   "source": [
    "dummy = pd.get_dummies(data['label'])\n",
    "dummy.head(5)"
   ]
  },
  {
   "cell_type": "code",
   "execution_count": 157,
   "id": "85e4141e",
   "metadata": {},
   "outputs": [
    {
     "data": {
      "text/html": [
       "<div>\n",
       "<style scoped>\n",
       "    .dataframe tbody tr th:only-of-type {\n",
       "        vertical-align: middle;\n",
       "    }\n",
       "\n",
       "    .dataframe tbody tr th {\n",
       "        vertical-align: top;\n",
       "    }\n",
       "\n",
       "    .dataframe thead th {\n",
       "        text-align: right;\n",
       "    }\n",
       "</style>\n",
       "<table border=\"1\" class=\"dataframe\">\n",
       "  <thead>\n",
       "    <tr style=\"text-align: right;\">\n",
       "      <th></th>\n",
       "      <th>label</th>\n",
       "      <th>text</th>\n",
       "      <th>deceptive</th>\n",
       "      <th>truthful</th>\n",
       "    </tr>\n",
       "  </thead>\n",
       "  <tbody>\n",
       "    <tr>\n",
       "      <th>0</th>\n",
       "      <td>deceptive</td>\n",
       "      <td>i recently stayed at the hyatt regency in chic...</td>\n",
       "      <td>1</td>\n",
       "      <td>0</td>\n",
       "    </tr>\n",
       "    <tr>\n",
       "      <th>1</th>\n",
       "      <td>deceptive</td>\n",
       "      <td>the intercontinental chicago was not as great ...</td>\n",
       "      <td>1</td>\n",
       "      <td>0</td>\n",
       "    </tr>\n",
       "    <tr>\n",
       "      <th>2</th>\n",
       "      <td>truthful</td>\n",
       "      <td>we had an issue with housekeeping and the hote...</td>\n",
       "      <td>0</td>\n",
       "      <td>1</td>\n",
       "    </tr>\n",
       "    <tr>\n",
       "      <th>3</th>\n",
       "      <td>truthful</td>\n",
       "      <td>this a great property  excellent location and ...</td>\n",
       "      <td>0</td>\n",
       "      <td>1</td>\n",
       "    </tr>\n",
       "    <tr>\n",
       "      <th>4</th>\n",
       "      <td>deceptive</td>\n",
       "      <td>i recently stayed at the affina chicago hotel ...</td>\n",
       "      <td>1</td>\n",
       "      <td>0</td>\n",
       "    </tr>\n",
       "  </tbody>\n",
       "</table>\n",
       "</div>"
      ],
      "text/plain": [
       "       label                                               text  deceptive  \\\n",
       "0  deceptive  i recently stayed at the hyatt regency in chic...          1   \n",
       "1  deceptive  the intercontinental chicago was not as great ...          1   \n",
       "2   truthful  we had an issue with housekeeping and the hote...          0   \n",
       "3   truthful  this a great property  excellent location and ...          0   \n",
       "4  deceptive  i recently stayed at the affina chicago hotel ...          1   \n",
       "\n",
       "   truthful  \n",
       "0         0  \n",
       "1         0  \n",
       "2         1  \n",
       "3         1  \n",
       "4         0  "
      ]
     },
     "execution_count": 157,
     "metadata": {},
     "output_type": "execute_result"
    }
   ],
   "source": [
    "data = pd.concat((data, dummy), axis = 1)\n",
    "data.head(5)"
   ]
  },
  {
   "cell_type": "code",
   "execution_count": 158,
   "id": "b4529c8f",
   "metadata": {},
   "outputs": [
    {
     "data": {
      "text/html": [
       "<div>\n",
       "<style scoped>\n",
       "    .dataframe tbody tr th:only-of-type {\n",
       "        vertical-align: middle;\n",
       "    }\n",
       "\n",
       "    .dataframe tbody tr th {\n",
       "        vertical-align: top;\n",
       "    }\n",
       "\n",
       "    .dataframe thead th {\n",
       "        text-align: right;\n",
       "    }\n",
       "</style>\n",
       "<table border=\"1\" class=\"dataframe\">\n",
       "  <thead>\n",
       "    <tr style=\"text-align: right;\">\n",
       "      <th></th>\n",
       "      <th>text</th>\n",
       "      <th>label</th>\n",
       "    </tr>\n",
       "  </thead>\n",
       "  <tbody>\n",
       "    <tr>\n",
       "      <th>0</th>\n",
       "      <td>i recently stayed at the hyatt regency in chic...</td>\n",
       "      <td>0</td>\n",
       "    </tr>\n",
       "    <tr>\n",
       "      <th>1</th>\n",
       "      <td>the intercontinental chicago was not as great ...</td>\n",
       "      <td>0</td>\n",
       "    </tr>\n",
       "    <tr>\n",
       "      <th>2</th>\n",
       "      <td>we had an issue with housekeeping and the hote...</td>\n",
       "      <td>1</td>\n",
       "    </tr>\n",
       "    <tr>\n",
       "      <th>3</th>\n",
       "      <td>this a great property  excellent location and ...</td>\n",
       "      <td>1</td>\n",
       "    </tr>\n",
       "    <tr>\n",
       "      <th>4</th>\n",
       "      <td>i recently stayed at the affina chicago hotel ...</td>\n",
       "      <td>0</td>\n",
       "    </tr>\n",
       "  </tbody>\n",
       "</table>\n",
       "</div>"
      ],
      "text/plain": [
       "                                                text  label\n",
       "0  i recently stayed at the hyatt regency in chic...      0\n",
       "1  the intercontinental chicago was not as great ...      0\n",
       "2  we had an issue with housekeeping and the hote...      1\n",
       "3  this a great property  excellent location and ...      1\n",
       "4  i recently stayed at the affina chicago hotel ...      0"
      ]
     },
     "execution_count": 158,
     "metadata": {},
     "output_type": "execute_result"
    }
   ],
   "source": [
    "data.drop([\"label\"], axis = 1, inplace = True)\n",
    "data.drop([\"deceptive\"], axis = 1, inplace = True)\n",
    "data = data.rename(columns = {\"truthful\":\"label\"})\n",
    "data.head(5)"
   ]
  },
  {
   "cell_type": "markdown",
   "id": "e91680a0",
   "metadata": {},
   "source": [
    "#### Defining the Independent and Dependant Variables"
   ]
  },
  {
   "cell_type": "code",
   "execution_count": 159,
   "id": "76b422da",
   "metadata": {},
   "outputs": [],
   "source": [
    "x = data[\"text\"]\n",
    "y = data[\"label\"]"
   ]
  },
  {
   "cell_type": "markdown",
   "id": "80257c4c",
   "metadata": {},
   "source": [
    "### Splitting the data into Testing and Training data"
   ]
  },
  {
   "cell_type": "code",
   "execution_count": 160,
   "id": "fe724e5d",
   "metadata": {},
   "outputs": [],
   "source": [
    "x_train, x_test, y_train, y_test = train_test_split(x, y, test_size=0.25)"
   ]
  },
  {
   "cell_type": "markdown",
   "id": "5b9ee9ae",
   "metadata": {},
   "source": [
    "### Converting text to Vectors"
   ]
  },
  {
   "cell_type": "code",
   "execution_count": 161,
   "id": "57e37d98",
   "metadata": {},
   "outputs": [],
   "source": [
    "from sklearn.feature_extraction.text import TfidfVectorizer"
   ]
  },
  {
   "cell_type": "code",
   "execution_count": 162,
   "id": "a82cad94",
   "metadata": {},
   "outputs": [],
   "source": [
    "vectorization = TfidfVectorizer()\n",
    "xv_train = vectorization.fit_transform(x_train)\n",
    "xv_test = vectorization.transform(x_test)"
   ]
  },
  {
   "cell_type": "markdown",
   "id": "8adbc226",
   "metadata": {},
   "source": [
    "# Classical Models"
   ]
  },
  {
   "cell_type": "markdown",
   "id": "ec43ef59",
   "metadata": {},
   "source": [
    "## 1. Logistic Regression"
   ]
  },
  {
   "cell_type": "code",
   "execution_count": 163,
   "id": "c3d435e1",
   "metadata": {},
   "outputs": [],
   "source": [
    "from sklearn.linear_model import LogisticRegression"
   ]
  },
  {
   "cell_type": "code",
   "execution_count": 164,
   "id": "c50ce8d3",
   "metadata": {},
   "outputs": [
    {
     "data": {
      "text/plain": [
       "LogisticRegression()"
      ]
     },
     "execution_count": 164,
     "metadata": {},
     "output_type": "execute_result"
    }
   ],
   "source": [
    "LR = LogisticRegression()\n",
    "LR.fit(xv_train,y_train)"
   ]
  },
  {
   "cell_type": "code",
   "execution_count": 165,
   "id": "82bb9fc4",
   "metadata": {},
   "outputs": [],
   "source": [
    "pred_lr=LR.predict(xv_test)"
   ]
  },
  {
   "cell_type": "code",
   "execution_count": 166,
   "id": "b7ece380",
   "metadata": {},
   "outputs": [
    {
     "data": {
      "text/plain": [
       "0.8693467336683417"
      ]
     },
     "execution_count": 166,
     "metadata": {},
     "output_type": "execute_result"
    }
   ],
   "source": [
    "LR.score(xv_test, y_test)"
   ]
  },
  {
   "cell_type": "code",
   "execution_count": 167,
   "id": "b7a7ee2d",
   "metadata": {
    "scrolled": true
   },
   "outputs": [
    {
     "name": "stdout",
     "output_type": "stream",
     "text": [
      "              precision    recall  f1-score   support\n",
      "\n",
      "           0       0.86      0.86      0.86       192\n",
      "           1       0.87      0.87      0.87       206\n",
      "\n",
      "    accuracy                           0.87       398\n",
      "   macro avg       0.87      0.87      0.87       398\n",
      "weighted avg       0.87      0.87      0.87       398\n",
      "\n"
     ]
    }
   ],
   "source": [
    "print(classification_report(y_test, pred_lr))"
   ]
  },
  {
   "cell_type": "markdown",
   "id": "d5b36543",
   "metadata": {},
   "source": [
    "## 2. Decision Tree Classification"
   ]
  },
  {
   "cell_type": "code",
   "execution_count": 168,
   "id": "371fd021",
   "metadata": {},
   "outputs": [],
   "source": [
    "from sklearn.tree import DecisionTreeClassifier"
   ]
  },
  {
   "cell_type": "code",
   "execution_count": 169,
   "id": "3f274e07",
   "metadata": {},
   "outputs": [
    {
     "data": {
      "text/plain": [
       "DecisionTreeClassifier()"
      ]
     },
     "execution_count": 169,
     "metadata": {},
     "output_type": "execute_result"
    }
   ],
   "source": [
    "DT = DecisionTreeClassifier()\n",
    "DT.fit(xv_train, y_train)"
   ]
  },
  {
   "cell_type": "code",
   "execution_count": 170,
   "id": "81f7262c",
   "metadata": {},
   "outputs": [],
   "source": [
    "pred_dt = DT.predict(xv_test)"
   ]
  },
  {
   "cell_type": "code",
   "execution_count": 171,
   "id": "5782b610",
   "metadata": {},
   "outputs": [
    {
     "data": {
      "text/plain": [
       "0.6859296482412061"
      ]
     },
     "execution_count": 171,
     "metadata": {},
     "output_type": "execute_result"
    }
   ],
   "source": [
    "DT.score(xv_test, y_test)"
   ]
  },
  {
   "cell_type": "code",
   "execution_count": 172,
   "id": "060b9da3",
   "metadata": {},
   "outputs": [
    {
     "name": "stdout",
     "output_type": "stream",
     "text": [
      "              precision    recall  f1-score   support\n",
      "\n",
      "           0       0.67      0.70      0.68       192\n",
      "           1       0.71      0.67      0.69       206\n",
      "\n",
      "    accuracy                           0.69       398\n",
      "   macro avg       0.69      0.69      0.69       398\n",
      "weighted avg       0.69      0.69      0.69       398\n",
      "\n"
     ]
    }
   ],
   "source": [
    "print(classification_report(y_test, pred_dt))"
   ]
  },
  {
   "cell_type": "markdown",
   "id": "3bdacfc6",
   "metadata": {},
   "source": [
    "## 3. Gradient Boosting Classifier"
   ]
  },
  {
   "cell_type": "code",
   "execution_count": 173,
   "id": "b072f8b5",
   "metadata": {},
   "outputs": [],
   "source": [
    "from sklearn.ensemble import GradientBoostingClassifier"
   ]
  },
  {
   "cell_type": "code",
   "execution_count": 174,
   "id": "58600424",
   "metadata": {},
   "outputs": [
    {
     "data": {
      "text/plain": [
       "GradientBoostingClassifier(random_state=0)"
      ]
     },
     "execution_count": 174,
     "metadata": {},
     "output_type": "execute_result"
    }
   ],
   "source": [
    "GBC = GradientBoostingClassifier(random_state=0)\n",
    "GBC.fit(xv_train, y_train)"
   ]
  },
  {
   "cell_type": "code",
   "execution_count": 175,
   "id": "23746f4a",
   "metadata": {},
   "outputs": [],
   "source": [
    "pred_gbc = GBC.predict(xv_test)"
   ]
  },
  {
   "cell_type": "code",
   "execution_count": 176,
   "id": "9ffd8bdd",
   "metadata": {},
   "outputs": [
    {
     "data": {
      "text/plain": [
       "0.8492462311557789"
      ]
     },
     "execution_count": 176,
     "metadata": {},
     "output_type": "execute_result"
    }
   ],
   "source": [
    "GBC.score(xv_test, y_test)"
   ]
  },
  {
   "cell_type": "code",
   "execution_count": 177,
   "id": "d4afefbc",
   "metadata": {},
   "outputs": [
    {
     "name": "stdout",
     "output_type": "stream",
     "text": [
      "              precision    recall  f1-score   support\n",
      "\n",
      "           0       0.83      0.86      0.85       192\n",
      "           1       0.86      0.84      0.85       206\n",
      "\n",
      "    accuracy                           0.85       398\n",
      "   macro avg       0.85      0.85      0.85       398\n",
      "weighted avg       0.85      0.85      0.85       398\n",
      "\n"
     ]
    }
   ],
   "source": [
    "print(classification_report(y_test, pred_gbc))"
   ]
  },
  {
   "cell_type": "markdown",
   "id": "bfcfae24",
   "metadata": {},
   "source": [
    "## 4. Random Forest Classifier"
   ]
  },
  {
   "cell_type": "code",
   "execution_count": 178,
   "id": "996f7f8b",
   "metadata": {},
   "outputs": [],
   "source": [
    "from sklearn.ensemble import RandomForestClassifier"
   ]
  },
  {
   "cell_type": "code",
   "execution_count": 179,
   "id": "747dc5a7",
   "metadata": {},
   "outputs": [
    {
     "data": {
      "text/plain": [
       "RandomForestClassifier(random_state=0)"
      ]
     },
     "execution_count": 179,
     "metadata": {},
     "output_type": "execute_result"
    }
   ],
   "source": [
    "RFC = RandomForestClassifier(random_state=0)\n",
    "RFC.fit(xv_train, y_train)"
   ]
  },
  {
   "cell_type": "code",
   "execution_count": 180,
   "id": "092c19c3",
   "metadata": {},
   "outputs": [],
   "source": [
    "pred_rfc = RFC.predict(xv_test)"
   ]
  },
  {
   "cell_type": "code",
   "execution_count": 181,
   "id": "9f2e6e42",
   "metadata": {},
   "outputs": [
    {
     "data": {
      "text/plain": [
       "0.8668341708542714"
      ]
     },
     "execution_count": 181,
     "metadata": {},
     "output_type": "execute_result"
    }
   ],
   "source": [
    "RFC.score(xv_test, y_test)"
   ]
  },
  {
   "cell_type": "code",
   "execution_count": 182,
   "id": "83290039",
   "metadata": {},
   "outputs": [
    {
     "name": "stdout",
     "output_type": "stream",
     "text": [
      "              precision    recall  f1-score   support\n",
      "\n",
      "           0       0.84      0.90      0.87       192\n",
      "           1       0.90      0.83      0.87       206\n",
      "\n",
      "    accuracy                           0.87       398\n",
      "   macro avg       0.87      0.87      0.87       398\n",
      "weighted avg       0.87      0.87      0.87       398\n",
      "\n"
     ]
    }
   ],
   "source": [
    "print(classification_report(y_test, pred_rfc))"
   ]
  },
  {
   "cell_type": "code",
   "execution_count": null,
   "id": "d7951185",
   "metadata": {},
   "outputs": [],
   "source": []
  }
 ],
 "metadata": {
  "kernelspec": {
   "display_name": "Python 3 (ipykernel)",
   "language": "python",
   "name": "python3"
  },
  "language_info": {
   "codemirror_mode": {
    "name": "ipython",
    "version": 3
   },
   "file_extension": ".py",
   "mimetype": "text/x-python",
   "name": "python",
   "nbconvert_exporter": "python",
   "pygments_lexer": "ipython3",
   "version": "3.9.7"
  }
 },
 "nbformat": 4,
 "nbformat_minor": 5
}
